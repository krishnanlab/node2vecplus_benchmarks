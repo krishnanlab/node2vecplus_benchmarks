{
 "cells": [
  {
   "cell_type": "code",
   "execution_count": null,
   "id": "8df7691e",
   "metadata": {},
   "outputs": [],
   "source": [
    "import numpy as np\n",
    "import pandas as pd\n",
    "\n",
    "from matplotlib import pyplot as plt\n",
    "import seaborn as sns\n",
    "sns.set()\n"
   ]
  },
  {
   "cell_type": "code",
   "execution_count": null,
   "id": "1cc28727",
   "metadata": {
    "scrolled": false
   },
   "outputs": [],
   "source": [
    "task_list = ['cluster', 'level']\n",
    "method_list = ['Node2vec', 'Node2vec+']\n",
    "\n",
    "result_df = pd.read_csv(\"../result/hierarchical_cluster.csv\")\n",
    "for network, group in result_df.groupby('Network'):\n",
    "    fig, axes = plt.subplots(1, 2, figsize=(9,3.4))\n",
    "    \n",
    "    for task, subgroup in group.groupby('Task'):\n",
    "        ax = axes[task_list.index(task)]\n",
    "        sns.lineplot(data=subgroup, x='q', y='Testing score', hue='Method', \n",
    "                     hue_order=method_list, ax=ax)\n",
    "        ax.set_xscale('log')\n",
    "        ax.set_title(task)\n",
    "    \n",
    "    plt.suptitle(network)\n",
    "    plt.tight_layout()\n",
    "    plt.show()\n"
   ]
  }
 ],
 "metadata": {
  "kernelspec": {
   "display_name": "Python 3",
   "language": "python",
   "name": "python3"
  },
  "language_info": {
   "codemirror_mode": {
    "name": "ipython",
    "version": 3
   },
   "file_extension": ".py",
   "mimetype": "text/x-python",
   "name": "python",
   "nbconvert_exporter": "python",
   "pygments_lexer": "ipython3",
   "version": "3.8.5"
  }
 },
 "nbformat": 4,
 "nbformat_minor": 5
}
