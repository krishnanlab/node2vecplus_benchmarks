{
 "cells": [
  {
   "cell_type": "code",
   "execution_count": null,
   "id": "88fadc73",
   "metadata": {},
   "outputs": [],
   "source": [
    "import os\n",
    "import numpy as np\n",
    "import pandas as pd\n",
    "\n",
    "from matplotlib import pyplot as plt\n",
    "import seaborn as sns\n",
    "sns.set()\n"
   ]
  },
  {
   "cell_type": "code",
   "execution_count": null,
   "id": "4faf5ce2",
   "metadata": {},
   "outputs": [],
   "source": [
    "network_list = ['BlogCatalog', 'Wikipedia']\n",
    "method_list = ['Node2vec+', 'Node2vec']\n",
    "result_df = pd.read_csv(\"../result/realworld_networks.csv\")\n",
    "\n",
    "fig, axes = plt.subplots(1, 2, figsize=(10,5))\n",
    "for network, group in result_df.groupby('Network'):\n",
    "    ax = axes[network_list.index(network)]\n",
    "    sns.lineplot(data=group, x='q', y='Testing score', hue='Method', hue_order=method_list, ax=ax)\n",
    "    ax.set_xscale('log')\n",
    "    ax.set_title(network)\n",
    "\n",
    "plt.tight_layout()\n",
    "plt.show()\n"
   ]
  }
 ],
 "metadata": {
  "kernelspec": {
   "display_name": "Python 3",
   "language": "python",
   "name": "python3"
  },
  "language_info": {
   "codemirror_mode": {
    "name": "ipython",
    "version": 3
   },
   "file_extension": ".py",
   "mimetype": "text/x-python",
   "name": "python",
   "nbconvert_exporter": "python",
   "pygments_lexer": "ipython3",
   "version": "3.8.5"
  }
 },
 "nbformat": 4,
 "nbformat_minor": 5
}
