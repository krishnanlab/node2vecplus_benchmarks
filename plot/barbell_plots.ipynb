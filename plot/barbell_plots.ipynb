{
 "cells": [
  {
   "cell_type": "code",
   "execution_count": null,
   "id": "827a89d2",
   "metadata": {},
   "outputs": [],
   "source": [
    "import numpy as np\n",
    "from gensim.models import Word2Vec\n",
    "\n",
    "from sys import path\n",
    "path.append(\"../pecanpy/src/\")\n",
    "from pecanpy import node2vec\n",
    "\n",
    "from matplotlib import pyplot as plt\n",
    "import seaborn as sns\n",
    "sns.set()"
   ]
  },
  {
   "cell_type": "code",
   "execution_count": null,
   "id": "eae81713",
   "metadata": {},
   "outputs": [],
   "source": [
    "def color_labels(n, m, k):\n",
    "    N = n * m + (k - 1) * (n - 1) # size of graph\n",
    "    label_ary = np.zeros(N, dtype=int)\n",
    "    \n",
    "    for i in range(n - 1): # label bars\n",
    "        end_idx = (i + 1) * (m + k -1) + 1\n",
    "        start_idx = end_idx - (k + 1)\n",
    "        for j in range(np.ceil((k + 1) / 2).astype(int)):\n",
    "            label_ary[start_idx+j:end_idx-j] += 1\n",
    "\n",
    "    return label_ary\n",
    "\n",
    "def generate_barbell(noise):\n",
    "    n = 2  # number of bell\n",
    "    m = 20  # size of bell\n",
    "    k = 2  # length of bar\n",
    "\n",
    "    N = n * m + (k - 1) * (n - 1) # size of graph\n",
    "    M = np.zeros((N, N))\n",
    "    \n",
    "    # construct bells\n",
    "    for i in range(n):\n",
    "        start_idx = i * (m + k -1)\n",
    "        end_idx = start_idx + m\n",
    "        M[start_idx:end_idx,start_idx:end_idx] = 1\n",
    "        \n",
    "    # add bars\n",
    "    P = np.eye(k + 1, k=1) + np.eye(k + 1, k=-1)\n",
    "    for i in range(n - 1):\n",
    "        end_idx = (i + 1) * (m + k -1) + 1\n",
    "        start_idx = end_idx - (k + 1)\n",
    "        M[start_idx:end_idx,start_idx:end_idx] += P\n",
    "    \n",
    "    M[M==0] += noise\n",
    "        \n",
    "    return M\n",
    "\n",
    "def embed(M, q, extend):\n",
    "    g = node2vec.DenseOTF(1, q=q, workers=4, verbose=False, extend=extend)\n",
    "    g.data, g.nonzero = M, M != 0\n",
    "    g.IDlst = [str(i) for i in range(M.shape[0])]\n",
    "    g.IDmap = {j: i for i, j in enumerate(g.IDlst)}\n",
    "\n",
    "    walks = g.simulate_walks(num_walks=10, walk_length=80)\n",
    "    mdl = Word2Vec(walks, vector_size=8, window=10, min_count=0, \n",
    "                   sg=1, workers=4, epochs=5)\n",
    "\n",
    "    idx_ary = np.array(mdl.wv.index_to_key, dtype=int).argsort()\n",
    "    emd = mdl.wv.vectors[idx_ary]\n",
    "    \n",
    "    return emd\n",
    "\n",
    "def plot_embeddings(M, extend=False):\n",
    "    fig, axes = plt.subplots(1, 3, figsize=(9,3.2))\n",
    "    for q, ax in zip((1, 100, 0.01), axes):\n",
    "        # generate embeddings\n",
    "        emd = embed(M, q, extend)\n",
    "        \n",
    "        # PCA \n",
    "        X = emd - emd.mean(axis=0)\n",
    "        u, s, v = np.linalg.svd(X)\n",
    "        X = u[:,:2] * s[:2]\n",
    "\n",
    "        # plot embeddings\n",
    "        for i in range(label_ary.max()+1):\n",
    "            idx_ary = np.where(label_ary==i)[0]\n",
    "            ax.scatter(X[idx_ary,0], X[idx_ary,1], color=color_list[i], marker=maker_list[i])\n",
    "\n",
    "        ax.set_title(f\"q = {q}\")\n",
    "        ax.xaxis.set_ticklabels([])\n",
    "        ax.yaxis.set_ticklabels([])\n",
    "        \n",
    "    plt.tight_layout()\n",
    "    plt.show()\n"
   ]
  },
  {
   "cell_type": "code",
   "execution_count": null,
   "id": "c9525924",
   "metadata": {},
   "outputs": [],
   "source": [
    "color_list = ['magenta', 'limegreen', 'darkgrey']\n",
    "maker_list = ['o', 's', '^']\n",
    "label_ary = color_labels(2, 20, 2)\n",
    "\n",
    "M = generate_barbell(0)\n",
    "M_noisy = generate_barbell(0.1)\n"
   ]
  },
  {
   "cell_type": "code",
   "execution_count": null,
   "id": "d875a8e0",
   "metadata": {},
   "outputs": [],
   "source": [
    "# node2vec on clean Barbell graph\n",
    "plot_embeddings(M)"
   ]
  },
  {
   "cell_type": "code",
   "execution_count": null,
   "id": "fea7d1c0",
   "metadata": {},
   "outputs": [],
   "source": [
    "# node2vec+ on clean Barbell graph\n",
    "plot_embeddings(M, extend=True)"
   ]
  },
  {
   "cell_type": "code",
   "execution_count": null,
   "id": "1c68c3fb",
   "metadata": {},
   "outputs": [],
   "source": [
    "# node2vec on noisy Barbell graph\n",
    "plot_embeddings(M_noisy)"
   ]
  },
  {
   "cell_type": "code",
   "execution_count": null,
   "id": "60d9a14f",
   "metadata": {},
   "outputs": [],
   "source": [
    "# node2vec+ on noisy Barbell graph\n",
    "plot_embeddings(M_noisy, extend=True)"
   ]
  }
 ],
 "metadata": {
  "kernelspec": {
   "display_name": "Python 3",
   "language": "python",
   "name": "python3"
  },
  "language_info": {
   "codemirror_mode": {
    "name": "ipython",
    "version": 3
   },
   "file_extension": ".py",
   "mimetype": "text/x-python",
   "name": "python",
   "nbconvert_exporter": "python",
   "pygments_lexer": "ipython3",
   "version": "3.8.5"
  }
 },
 "nbformat": 4,
 "nbformat_minor": 5
}
