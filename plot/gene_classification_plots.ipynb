{
 "cells": [
  {
   "cell_type": "code",
   "execution_count": null,
   "id": "88fadc73",
   "metadata": {},
   "outputs": [],
   "source": [
    "import numpy as np\n",
    "import pandas as pd\n",
    "\n",
    "from matplotlib import pyplot as plt\n",
    "import seaborn as sns\n",
    "sns.set()\n"
   ]
  },
  {
   "cell_type": "code",
   "execution_count": null,
   "id": "bdbad58a",
   "metadata": {},
   "outputs": [],
   "source": [
    "network_list = ['GIANT-TN', 'GIANT-TN-c01', 'STRING']\n",
    "dataset_list = ['GOBP', 'KEGGBP', 'DisGeNet']\n",
    "method_list = ['gcn', 'sage', 'Node2vec+', 'Node2vec']\n",
    "\n",
    "n2v_result_df = pd.read_csv('../result/gene_classification_n2v.csv')\n",
    "optim_idx_ary = n2v_result_df.groupby(['Network', 'Method', 'Task'])['Validation score'].agg('idxmax').values\n",
    "optim_n2v_result_df = n2v_result_df.iloc[optim_idx_ary]\n",
    "\n",
    "gnn_result_df = pd.read_csv('../result/gene_classification_gnn.csv')\n",
    "result_df = pd.concat((optim_n2v_result_df, gnn_result_df))\n"
   ]
  },
  {
   "cell_type": "code",
   "execution_count": null,
   "id": "a8db08ee",
   "metadata": {},
   "outputs": [],
   "source": [
    "fig, axes = plt.subplots(1, 3, figsize=(15,5))\n",
    "\n",
    "for network, group in result_df.groupby('Network'):\n",
    "    ax = axes[network_list.index(network)]\n",
    "    sns.boxplot(data=group, x='Dataset', y='Testing score', \n",
    "                hue='Method', hue_order=method_list, notch=True, ax=ax)\n",
    "    ax.set_title(network)\n",
    "\n",
    "plt.tight_layout()\n",
    "plt.show()\n"
   ]
  }
 ],
 "metadata": {
  "kernelspec": {
   "display_name": "Python 3",
   "language": "python",
   "name": "python3"
  },
  "language_info": {
   "codemirror_mode": {
    "name": "ipython",
    "version": 3
   },
   "file_extension": ".py",
   "mimetype": "text/x-python",
   "name": "python",
   "nbconvert_exporter": "python",
   "pygments_lexer": "ipython3",
   "version": "3.8.5"
  }
 },
 "nbformat": 4,
 "nbformat_minor": 5
}
