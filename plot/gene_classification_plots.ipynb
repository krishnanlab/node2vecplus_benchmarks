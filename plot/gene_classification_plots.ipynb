{
 "cells": [
  {
   "cell_type": "code",
   "execution_count": null,
   "id": "88fadc73",
   "metadata": {},
   "outputs": [],
   "source": [
    "import warnings\n",
    "warnings.filterwarnings(\"ignore\")\n",
    "\n",
    "import numpy as np\n",
    "import pandas as pd\n",
    "from scipy import stats\n",
    "\n",
    "from matplotlib import pyplot as plt\n",
    "import seaborn as sns\n",
    "from statannot import add_stat_annotation\n",
    "\n",
    "sns.set()"
   ]
  },
  {
   "cell_type": "code",
   "execution_count": null,
   "id": "bdbad58a",
   "metadata": {},
   "outputs": [],
   "source": [
    "# load results for study bias holdout\n",
    "n2v_result_df = pd.read_csv('../result/gene_classification_n2v.csv')\n",
    "optim_idx_ary = n2v_result_df.groupby(['Network', 'Method', 'Task'])['Validation score'].agg('idxmax').values\n",
    "optim_n2v_result_df = n2v_result_df.iloc[optim_idx_ary]\n",
    "\n",
    "gnn_result_df = pd.read_csv('../result/gene_classification_gnn.csv')\n",
    "sb_result_df = pd.concat((optim_n2v_result_df, gnn_result_df))\n",
    "\n",
    "# lod results for cross validation\n",
    "n2v_result_df = pd.read_csv('../result/gene_classification_n2v_cv.csv')\n",
    "optim_idx_ary = n2v_result_df.groupby(['Network', 'Method', 'Task'])['Validation score'].agg('idxmax').values\n",
    "cv_result_df = n2v_result_df.iloc[optim_idx_ary]"
   ]
  },
  {
   "cell_type": "code",
   "execution_count": null,
   "id": "f4d7f4e2",
   "metadata": {},
   "outputs": [],
   "source": [
    "pthresh = 0.05\n",
    "pvt = [[pthresh, \"*\"], [1, \"\"]]\n",
    "\n",
    "network_list = ['GIANT-TN', 'GIANT-TN-c01', 'STRING']\n",
    "dataset_list = ['GOBP', 'KEGGBP', 'DisGeNet']\n",
    "full_method_list = ['GCN', 'GraphSAGE', 'Node2vec+', 'Node2vec']\n",
    "n2v_method_list = ['Node2vec+', 'Node2vec']\n",
    "method_name_dict = {'gcn': 'GCN', 'sage': 'GraphSAGE'}\n",
    "\n",
    "color_dict = {\n",
    "    \"GCN\": 'lightskyblue',\n",
    "    \"GraphSAGE\": 'slateblue',\n",
    "    \"Node2vec+\": 'orangered',\n",
    "    \"Node2vec\": 'lightsalmon'\n",
    "}\n",
    "\n",
    "result_df_list = [cv_result_df, sb_result_df]\n",
    "result_name_list = ['Cross Validation', 'Study-bias Holdout']\n",
    "\n",
    "# rename method name\n",
    "for result_df in result_df_list:\n",
    "    result_df['Method'].replace(method_name_dict, inplace=True)"
   ]
  },
  {
   "cell_type": "code",
   "execution_count": null,
   "id": "6dc554b1",
   "metadata": {},
   "outputs": [],
   "source": [
    "def get_stat_annot(group, method_list):\n",
    "    n_method = len(method_list)\n",
    "    pval_list = []\n",
    "    box_pair_list = []\n",
    "    for dataset, subgroup in group.groupby('Dataset'):\n",
    "        for idx1 in range(n_method - 1):\n",
    "            for idx2 in range(idx1 + 1, n_method):\n",
    "                method1, method2 = method_list[idx1], method_list[idx2]\n",
    "                scores1 = subgroup[subgroup['Method'] == method1].sort_values('Task')['Testing score'].values\n",
    "                scores2 = subgroup[subgroup['Method'] == method2].sort_values('Task')['Testing score'].values\n",
    "                pval = stats.wilcoxon(scores1, scores2)[1]\n",
    "                if pval < pthresh:\n",
    "                    pval_list.append(pval)\n",
    "                    box_pair_list.append(((dataset, method1), (dataset, method2)))\n",
    "\n",
    "    return pval_list, box_pair_list"
   ]
  },
  {
   "cell_type": "code",
   "execution_count": null,
   "id": "2c824b96",
   "metadata": {},
   "outputs": [],
   "source": [
    "fig, axes = plt.subplots(2, 3, figsize=(11,7), sharex=True, sharey='row')\n",
    "\n",
    "for i, (result_df, result_name) in enumerate(zip(result_df_list, result_name_list)):\n",
    "    for network, group in result_df.groupby('Network'):\n",
    "        network_idx = network_list.index(network)\n",
    "        ax = axes[i, network_idx]\n",
    "        method_list = n2v_method_list if result_name == 'Cross Validation' else full_method_list\n",
    "        \n",
    "        sns.boxplot(data=group, order=dataset_list, x='Dataset',\n",
    "                    y='Testing score', palette=color_dict, hue='Method',\n",
    "                    hue_order=method_list, notch=True, ax=ax)\n",
    "\n",
    "        pval_list, box_pair_list = get_stat_annot(group, n2v_method_list)\n",
    "        if len(pval_list) > 0:\n",
    "            add_stat_annotation(ax, data=group, x='Dataset', y='Testing score',\n",
    "                                order=dataset_list, hue='Method', hue_order=method_list,\n",
    "                                verbose=0, perform_stat_test=False, box_pairs=box_pair_list,\n",
    "                                loc='inside', pvalue_thresholds=pvt, pvalues=pval_list)\n",
    "\n",
    "        ax.set_xlabel('')\n",
    "        ax.set_ylabel('')\n",
    "        ax.get_legend().remove()\n",
    "        \n",
    "        if i == 0:\n",
    "            ax.set_title(network, fontsize=14)\n",
    "        if network_idx == 0:\n",
    "            ax.set_ylabel(result_name, fontsize=14)\n",
    "\n",
    "plt.tight_layout()\n",
    "\n",
    "plt.subplots_adjust(bottom=0.1)\n",
    "axes[1,1].legend(bbox_to_anchor=(1.4, -0.1), ncol=4, fontsize=12)\n",
    "# plt.savefig(\"fig_bio_nc_eval.png\", dpi=300) # uncomment to save\n",
    "\n",
    "plt.show()"
   ]
  }
 ],
 "metadata": {
  "kernelspec": {
   "display_name": "Python 3",
   "language": "python",
   "name": "python3"
  },
  "language_info": {
   "codemirror_mode": {
    "name": "ipython",
    "version": 3
   },
   "file_extension": ".py",
   "mimetype": "text/x-python",
   "name": "python",
   "nbconvert_exporter": "python",
   "pygments_lexer": "ipython3",
   "version": "3.8.8"
  }
 },
 "nbformat": 4,
 "nbformat_minor": 5
}
